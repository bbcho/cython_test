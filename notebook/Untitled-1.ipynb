{
 "cells": [
  {
   "cell_type": "code",
   "execution_count": 2,
   "metadata": {},
   "outputs": [
    {
     "name": "stdout",
     "output_type": "stream",
     "text": [
      "Looking in indexes: https://test.pypi.org/simple/\n",
      "Collecting cython_numpy_test==0.0.7\n",
      "  Downloading https://test-files.pythonhosted.org/packages/61/f9/b1a43d7fe7b4ef685aedaedb43b74943dc93431f459dc51836646bfcdd90/cython_numpy_test-0.0.7-cp310-cp310-manylinux_2_5_x86_64.manylinux1_x86_64.manylinux_2_17_x86_64.manylinux2014_x86_64.whl (62 kB)\n",
      "\u001b[2K     \u001b[90m━━━━━━━━━━━━━━━━━━━━━━━━━━━━━━━━━━━━━━━━\u001b[0m \u001b[32m62.2/62.2 KB\u001b[0m \u001b[31m1.0 MB/s\u001b[0m eta \u001b[36m0:00:00\u001b[0mta \u001b[36m0:00:01\u001b[0m\n",
      "\u001b[?25hRequirement already satisfied: cython in /home/bcho/PROJECTS/cython_test/env/lib/python3.10/site-packages (from cython_numpy_test==0.0.7) (0.29.32)\n",
      "Requirement already satisfied: numpy in /home/bcho/PROJECTS/cython_test/env/lib/python3.10/site-packages (from cython_numpy_test==0.0.7) (1.24.0)\n",
      "Installing collected packages: cython_numpy_test\n",
      "Successfully installed cython_numpy_test-0.0.7\n"
     ]
    }
   ],
   "source": [
    "!pip install --index-url https://test.pypi.org/simple/ cython_numpy_test==0.0.7"
   ]
  },
  {
   "cell_type": "code",
   "execution_count": 3,
   "metadata": {},
   "outputs": [
    {
     "name": "stdout",
     "output_type": "stream",
     "text": [
      "Total =  4999950001.0\n",
      "0.00039005279541015625\n",
      "None\n"
     ]
    }
   ],
   "source": [
    "import cython_numpy_test\n",
    "import numpy as np"
   ]
  },
  {
   "cell_type": "code",
   "execution_count": 4,
   "metadata": {},
   "outputs": [],
   "source": [
    "arr = np.arange(100_000_000, dtype=np.double)"
   ]
  },
  {
   "cell_type": "code",
   "execution_count": 5,
   "metadata": {},
   "outputs": [
    {
     "name": "stdout",
     "output_type": "stream",
     "text": [
      "Total =  4999999950000000.0\n",
      "0.11479187011718750000\n"
     ]
    }
   ],
   "source": [
    "cython_numpy_test.do_calc(arr)"
   ]
  }
 ],
 "metadata": {
  "kernelspec": {
   "display_name": "env",
   "language": "python",
   "name": "python3"
  },
  "language_info": {
   "codemirror_mode": {
    "name": "ipython",
    "version": 3
   },
   "file_extension": ".py",
   "mimetype": "text/x-python",
   "name": "python",
   "nbconvert_exporter": "python",
   "pygments_lexer": "ipython3",
   "version": "3.10.6"
  },
  "orig_nbformat": 4,
  "vscode": {
   "interpreter": {
    "hash": "a8974a91d2986c33f32483706c6ff7f1286fed162a11027dae631d6dab899171"
   }
  }
 },
 "nbformat": 4,
 "nbformat_minor": 2
}
