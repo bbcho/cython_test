{
 "cells": [
  {
   "cell_type": "code",
   "execution_count": 1,
   "metadata": {},
   "outputs": [
    {
     "name": "stdout",
     "output_type": "stream",
     "text": [
      "Looking in indexes: https://test.pypi.org/simple/\n",
      "Collecting cython_numpy_test==0.0.5\n",
      "  Downloading https://test-files.pythonhosted.org/packages/a4/51/216544a20fc8de3bd272aa2904404e6c9557e3d10a3b22203900d0979a5b/cython_numpy_test-0.0.5-cp310-cp310-manylinux_2_5_x86_64.manylinux1_x86_64.manylinux_2_17_x86_64.manylinux2014_x86_64.whl (61 kB)\n",
      "\u001b[2K     \u001b[90m━━━━━━━━━━━━━━━━━━━━━━━━━━━━━━━━━━━━━━━\u001b[0m \u001b[32m61.7/61.7 KB\u001b[0m \u001b[31m957.0 kB/s\u001b[0m eta \u001b[36m0:00:00\u001b[0ma \u001b[36m0:00:01\u001b[0m\n",
      "\u001b[?25hRequirement already satisfied: cython in /home/bcho/PROJECTS/cython_test/env/lib/python3.10/site-packages (from cython_numpy_test==0.0.5) (0.29.32)\n",
      "Requirement already satisfied: numpy in /home/bcho/PROJECTS/cython_test/env/lib/python3.10/site-packages (from cython_numpy_test==0.0.5) (1.24.0)\n",
      "Installing collected packages: cython_numpy_test\n",
      "Successfully installed cython_numpy_test-0.0.5\n"
     ]
    }
   ],
   "source": [
    "!pip install --index-url https://test.pypi.org/simple/ cython_numpy_test==0.0.5"
   ]
  },
  {
   "cell_type": "code",
   "execution_count": 3,
   "metadata": {},
   "outputs": [],
   "source": [
    "import cython_test\n",
    "import numpy as np"
   ]
  },
  {
   "cell_type": "code",
   "execution_count": 4,
   "metadata": {},
   "outputs": [],
   "source": [
    "arr = np.arange(100_000_000, dtype=np.double)"
   ]
  },
  {
   "cell_type": "code",
   "execution_count": 5,
   "metadata": {},
   "outputs": [
    {
     "name": "stdout",
     "output_type": "stream",
     "text": [
      "Total =  4999999950000000.0\n",
      "0.17851638793945312500\n"
     ]
    }
   ],
   "source": [
    "cython_test.do_calc(arr)"
   ]
  },
  {
   "cell_type": "code",
   "execution_count": null,
   "metadata": {},
   "outputs": [],
   "source": []
  }
 ],
 "metadata": {
  "kernelspec": {
   "display_name": "env",
   "language": "python",
   "name": "python3"
  },
  "language_info": {
   "codemirror_mode": {
    "name": "ipython",
    "version": 3
   },
   "file_extension": ".py",
   "mimetype": "text/x-python",
   "name": "python",
   "nbconvert_exporter": "python",
   "pygments_lexer": "ipython3",
   "version": "3.10.6"
  },
  "orig_nbformat": 4,
  "vscode": {
   "interpreter": {
    "hash": "a8974a91d2986c33f32483706c6ff7f1286fed162a11027dae631d6dab899171"
   }
  }
 },
 "nbformat": 4,
 "nbformat_minor": 2
}
